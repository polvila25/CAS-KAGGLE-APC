{
 "cells": [
  {
   "cell_type": "markdown",
   "metadata": {},
   "source": [
    "### CAS KAGGLE"
   ]
  },
  {
   "cell_type": "markdown",
   "metadata": {},
   "source": [
    "#### Introducció"
   ]
  },
  {
   "cell_type": "markdown",
   "metadata": {},
   "source": [
    "Per realitzar el nostre cas Kaggle hem triat el famòs dataset airbnb se la ciutat de Nova York. Aquest dataset descriu la llista d'activitats i mértiques dels airbn a la ciutat de New York al 2019. \n",
    "\n",
    "Es tractar un problema de regressió ja que el target serà predir el preu per nit del AirBnb.\n",
    "\n"
   ]
  },
  {
   "cell_type": "code",
   "execution_count": 17,
   "metadata": {},
   "outputs": [],
   "source": [
    "#importem llibreries\n",
    "import pandas as pd \n",
    "import numpy as np\n",
    "import matplotlib.pylab as plt\n",
    "import seaborn as sns"
   ]
  },
  {
   "cell_type": "markdown",
   "metadata": {},
   "source": [
    "Primer de tot llegim el dataset. I és molt important veure les dades i els atributs del nostre dataset i entrendre-les així serà més fàcil per després. "
   ]
  },
  {
   "cell_type": "code",
   "execution_count": 20,
   "metadata": {},
   "outputs": [
    {
     "name": "stdout",
     "output_type": "stream",
     "text": [
      "El nombre de mostres son: 48895\n",
      "El nombre d'atributs son: 16\n",
      "id                                  int64\n",
      "name                               object\n",
      "host_id                             int64\n",
      "host_name                          object\n",
      "neighbourhood_group                object\n",
      "neighbourhood                      object\n",
      "latitude                          float64\n",
      "longitude                         float64\n",
      "room_type                          object\n",
      "price                               int64\n",
      "minimum_nights                      int64\n",
      "number_of_reviews                   int64\n",
      "last_review                        object\n",
      "reviews_per_month                 float64\n",
      "calculated_host_listings_count      int64\n",
      "availability_365                    int64\n",
      "dtype: object\n"
     ]
    }
   ],
   "source": [
    "df = pd.read_csv('dataset/AB_NYC_2019.csv')\n",
    "\n",
    "print(f'El nombre de mostres son: {df.shape[0]}')\n",
    "print(f\"El nombre d'atributs son: {df.shape[1]}\")\n",
    "\n",
    "print(df.dtypes)\n",
    "\n"
   ]
  },
  {
   "cell_type": "markdown",
   "metadata": {},
   "source": [
    "Com podem veur el nostre dataset té 48895 mostres, és a dir files. I després té 16 atributs. El target serà l'atribut price.\n",
    "\n",
    "#### Descripció dels atributs: \n",
    "- id: identificador \n",
    "- name: nom de l'anunci\n",
    "- host_id: id del host \n",
    "- neighbourhood_group: localització\n",
    "- neighbourhood: barri \n",
    "- latitude: latitud\n",
    "- longitude: longitud\n",
    "- room_type: tipus d'apartament \n",
    "- price: preu en dolars (target)\n",
    "- number_of_reviews: número de reviews\n",
    "- last_review: data de l'ultima ressenya\n",
    "- calculated_host_listings_count: número de apartamentos que tiene el anfitrion\n",
    "- availability_365: número de dias que está disponible para reservar \n",
    "\n"
   ]
  },
  {
   "cell_type": "markdown",
   "metadata": {},
   "source": [
    "## 1. Data Cleaning i Preprocessament "
   ]
  },
  {
   "cell_type": "markdown",
   "metadata": {},
   "source": [
    "##### Mirem si conté valors nuls"
   ]
  },
  {
   "cell_type": "code",
   "execution_count": 33,
   "metadata": {},
   "outputs": [
    {
     "name": "stdout",
     "output_type": "stream",
     "text": [
      "id                                0.000000\n",
      "name                              0.000020\n",
      "host_id                           0.000000\n",
      "host_name                         0.000027\n",
      "neighbourhood_group               0.000000\n",
      "neighbourhood                     0.000000\n",
      "latitude                          0.000000\n",
      "longitude                         0.000000\n",
      "room_type                         0.000000\n",
      "price                             0.000000\n",
      "minimum_nights                    0.000000\n",
      "number_of_reviews                 0.000000\n",
      "last_review                       0.012849\n",
      "reviews_per_month                 0.012849\n",
      "calculated_host_listings_count    0.000000\n",
      "availability_365                  0.000000\n",
      "dtype: float64\n",
      "['name', 'host_name', 'last_review', 'reviews_per_month']\n"
     ]
    }
   ],
   "source": [
    "#numero de valores nulos en el dataset \n",
    "num_valors_null = df.isnull().sum()\n",
    "percentatge_null = df.isnull().sum()/df.size\n",
    "\n",
    "#percentatge valors nuls, per entendre millor \n",
    "print(percentatge_null)\n",
    "\n",
    "#llistem els valors nuls\n",
    "columna_null = df.columns[df.isnull().any()].to_list()\n",
    "print(columna_null)\n"
   ]
  },
  {
   "cell_type": "code",
   "execution_count": 34,
   "metadata": {},
   "outputs": [
    {
     "name": "stdout",
     "output_type": "stream",
     "text": [
      "name\n",
      "False    48879\n",
      "True        16\n",
      "Name: count, dtype: int64\n",
      "host_name\n",
      "False    48874\n",
      "True        21\n",
      "Name: count, dtype: int64\n",
      "last_review\n",
      "False    38843\n",
      "True     10052\n",
      "Name: count, dtype: int64\n",
      "reviews_per_month\n",
      "False    38843\n",
      "True     10052\n",
      "Name: count, dtype: int64\n"
     ]
    }
   ],
   "source": [
    "# número de valors nulls \n",
    "for valor in columna_null:\n",
    "    print(df[valor].isnull().value_counts())"
   ]
  },
  {
   "cell_type": "markdown",
   "metadata": {},
   "source": [
    "#### Remplaçament de valors nuls "
   ]
  },
  {
   "cell_type": "code",
   "execution_count": 32,
   "metadata": {},
   "outputs": [
    {
     "name": "stdout",
     "output_type": "stream",
     "text": [
      "name\n",
      "False    48879\n",
      "True        16\n",
      "Name: count, dtype: int64\n",
      "host_name\n",
      "False    48874\n",
      "True        21\n",
      "Name: count, dtype: int64\n",
      "last_review\n",
      "False    38843\n",
      "True     10052\n",
      "Name: count, dtype: int64\n",
      "reviews_per_month\n",
      "False    38843\n",
      "True     10052\n",
      "Name: count, dtype: int64\n"
     ]
    }
   ],
   "source": [
    "for valor in columna_null:\n",
    "    print(df[valor].isnull().value_counts())\n",
    "    "
   ]
  },
  {
   "cell_type": "markdown",
   "metadata": {},
   "source": []
  }
 ],
 "metadata": {
  "kernelspec": {
   "display_name": "Python 3 (ipykernel)",
   "language": "python",
   "name": "python3"
  },
  "language_info": {
   "codemirror_mode": {
    "name": "ipython",
    "version": 3
   },
   "file_extension": ".py",
   "mimetype": "text/x-python",
   "name": "python",
   "nbconvert_exporter": "python",
   "pygments_lexer": "ipython3",
   "version": "3.12.4"
  }
 },
 "nbformat": 4,
 "nbformat_minor": 4
}
