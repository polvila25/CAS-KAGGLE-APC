{
 "cells": [
  {
   "cell_type": "markdown",
   "metadata": {},
   "source": [
    "### CAS KAGGLE"
   ]
  },
  {
   "cell_type": "markdown",
   "metadata": {},
   "source": [
    "Guia \n",
    "\n",
    "1- introducció / llegir base de dades\n",
    "2- data cleaning / preprocessament (tractar els nans, tractar els outliers)\n",
    "3- Exploration data analisiy "
   ]
  },
  {
   "cell_type": "markdown",
   "metadata": {},
   "source": [
    "#### Introducció"
   ]
  },
  {
   "cell_type": "markdown",
   "metadata": {},
   "source": [
    "Per realitzar el nostre cas Kaggle hem triat el famòs dataset airbnb se la ciutat de Nova York. Aquest dataset descriu la llista d'activitats i mértiques dels airbn a la ciutat de New York al 2019. \n",
    "\n",
    "Es tractar un problema de regressió ja que el target serà predir el preu per nit del AirBnb.\n",
    "\n"
   ]
  },
  {
   "cell_type": "code",
   "execution_count": 49,
   "metadata": {},
   "outputs": [],
   "source": [
    "#importem llibreries\n",
    "import pandas as pd \n",
    "import numpy as np\n",
    "import matplotlib.pylab as plt\n",
    "import seaborn as sns\n",
    "from matplotlib.ticker import ScalarFormatter"
   ]
  },
  {
   "cell_type": "markdown",
   "metadata": {},
   "source": [
    "Primer de tot llegim el dataset. I és molt important veure les dades i els atributs del nostre dataset i entrendre-les així serà més fàcil per després. "
   ]
  },
  {
   "cell_type": "code",
   "execution_count": 50,
   "metadata": {},
   "outputs": [
    {
     "name": "stdout",
     "output_type": "stream",
     "text": [
      "El nombre de mostres son: 48895\n",
      "El nombre d'atributs son: 16\n",
      "id                                  int64\n",
      "name                               object\n",
      "host_id                             int64\n",
      "host_name                          object\n",
      "neighbourhood_group                object\n",
      "neighbourhood                      object\n",
      "latitude                          float64\n",
      "longitude                         float64\n",
      "room_type                          object\n",
      "price                               int64\n",
      "minimum_nights                      int64\n",
      "number_of_reviews                   int64\n",
      "last_review                        object\n",
      "reviews_per_month                 float64\n",
      "calculated_host_listings_count      int64\n",
      "availability_365                    int64\n",
      "dtype: object\n"
     ]
    },
    {
     "data": {
      "text/plain": [
       "<bound method NDFrame.head of              id                                               name   host_id  \\\n",
       "0          2539                 Clean & quiet apt home by the park      2787   \n",
       "1          2595                              Skylit Midtown Castle      2845   \n",
       "2          3647                THE VILLAGE OF HARLEM....NEW YORK !      4632   \n",
       "3          3831                    Cozy Entire Floor of Brownstone      4869   \n",
       "4          5022   Entire Apt: Spacious Studio/Loft by central park      7192   \n",
       "...         ...                                                ...       ...   \n",
       "48890  36484665    Charming one bedroom - newly renovated rowhouse   8232441   \n",
       "48891  36485057      Affordable room in Bushwick/East Williamsburg   6570630   \n",
       "48892  36485431            Sunny Studio at Historical Neighborhood  23492952   \n",
       "48893  36485609               43rd St. Time Square-cozy single bed  30985759   \n",
       "48894  36487245  Trendy duplex in the very heart of Hell's Kitchen  68119814   \n",
       "\n",
       "           host_name neighbourhood_group       neighbourhood  latitude  \\\n",
       "0               John            Brooklyn          Kensington  40.64749   \n",
       "1           Jennifer           Manhattan             Midtown  40.75362   \n",
       "2          Elisabeth           Manhattan              Harlem  40.80902   \n",
       "3        LisaRoxanne            Brooklyn        Clinton Hill  40.68514   \n",
       "4              Laura           Manhattan         East Harlem  40.79851   \n",
       "...              ...                 ...                 ...       ...   \n",
       "48890        Sabrina            Brooklyn  Bedford-Stuyvesant  40.67853   \n",
       "48891        Marisol            Brooklyn            Bushwick  40.70184   \n",
       "48892  Ilgar & Aysel           Manhattan              Harlem  40.81475   \n",
       "48893            Taz           Manhattan      Hell's Kitchen  40.75751   \n",
       "48894     Christophe           Manhattan      Hell's Kitchen  40.76404   \n",
       "\n",
       "       longitude        room_type  price  minimum_nights  number_of_reviews  \\\n",
       "0      -73.97237     Private room    149               1                  9   \n",
       "1      -73.98377  Entire home/apt    225               1                 45   \n",
       "2      -73.94190     Private room    150               3                  0   \n",
       "3      -73.95976  Entire home/apt     89               1                270   \n",
       "4      -73.94399  Entire home/apt     80              10                  9   \n",
       "...          ...              ...    ...             ...                ...   \n",
       "48890  -73.94995     Private room     70               2                  0   \n",
       "48891  -73.93317     Private room     40               4                  0   \n",
       "48892  -73.94867  Entire home/apt    115              10                  0   \n",
       "48893  -73.99112      Shared room     55               1                  0   \n",
       "48894  -73.98933     Private room     90               7                  0   \n",
       "\n",
       "      last_review  reviews_per_month  calculated_host_listings_count  \\\n",
       "0      2018-10-19               0.21                               6   \n",
       "1      2019-05-21               0.38                               2   \n",
       "2             NaN                NaN                               1   \n",
       "3      2019-07-05               4.64                               1   \n",
       "4      2018-11-19               0.10                               1   \n",
       "...           ...                ...                             ...   \n",
       "48890         NaN                NaN                               2   \n",
       "48891         NaN                NaN                               2   \n",
       "48892         NaN                NaN                               1   \n",
       "48893         NaN                NaN                               6   \n",
       "48894         NaN                NaN                               1   \n",
       "\n",
       "       availability_365  \n",
       "0                   365  \n",
       "1                   355  \n",
       "2                   365  \n",
       "3                   194  \n",
       "4                     0  \n",
       "...                 ...  \n",
       "48890                 9  \n",
       "48891                36  \n",
       "48892                27  \n",
       "48893                 2  \n",
       "48894                23  \n",
       "\n",
       "[48895 rows x 16 columns]>"
      ]
     },
     "execution_count": 50,
     "metadata": {},
     "output_type": "execute_result"
    }
   ],
   "source": [
    "df = pd.read_csv('dataset/AB_NYC_2019.csv')\n",
    "\n",
    "print(f'El nombre de mostres son: {df.shape[0]}')\n",
    "print(f\"El nombre d'atributs son: {df.shape[1]}\")\n",
    "\n",
    "print(df.dtypes)\n",
    "\n",
    "df.head\n",
    "\n"
   ]
  },
  {
   "cell_type": "markdown",
   "metadata": {},
   "source": [
    "Com podem veur el nostre dataset té 48895 mostres, és a dir files. I després té 16 atributs. El target serà l'atribut price.\n",
    "\n",
    "#### Descripció dels atributs: \n",
    "- id: identificador \n",
    "- name: nom de l'anunci\n",
    "- host_id: id del host \n",
    "- neighbourhood_group: localització\n",
    "- neighbourhood: barri \n",
    "- latitude: latitud\n",
    "- longitude: longitud\n",
    "- room_type: tipus d'apartament \n",
    "- price: preu en dolars (target)\n",
    "- number_of_reviews: número de reviews\n",
    "- last_review: data de l'ultima ressenya\n",
    "- calculated_host_listings_count: número de apartamentos que tiene el anfitrion\n",
    "- availability_365: número de dias que está disponible para reservar \n",
    "\n"
   ]
  },
  {
   "cell_type": "markdown",
   "metadata": {},
   "source": [
    "## 1. Data Cleaning i Preprocessament "
   ]
  },
  {
   "cell_type": "markdown",
   "metadata": {},
   "source": [
    "##### Mirem si conté valors nuls"
   ]
  },
  {
   "cell_type": "code",
   "execution_count": 51,
   "metadata": {},
   "outputs": [
    {
     "name": "stdout",
     "output_type": "stream",
     "text": [
      "id                                0.000000\n",
      "name                              0.000020\n",
      "host_id                           0.000000\n",
      "host_name                         0.000027\n",
      "neighbourhood_group               0.000000\n",
      "neighbourhood                     0.000000\n",
      "latitude                          0.000000\n",
      "longitude                         0.000000\n",
      "room_type                         0.000000\n",
      "price                             0.000000\n",
      "minimum_nights                    0.000000\n",
      "number_of_reviews                 0.000000\n",
      "last_review                       0.012849\n",
      "reviews_per_month                 0.012849\n",
      "calculated_host_listings_count    0.000000\n",
      "availability_365                  0.000000\n",
      "dtype: float64\n",
      "['name', 'host_name', 'last_review', 'reviews_per_month']\n"
     ]
    }
   ],
   "source": [
    "#numero de valores nulos en el dataset \n",
    "num_valors_null = df.isnull().sum()\n",
    "percentatge_null = df.isnull().sum()/df.size\n",
    "\n",
    "#percentatge valors nuls, per entendre millor \n",
    "print(percentatge_null)\n",
    "\n",
    "#llistem els valors nuls\n",
    "columna_null = df.columns[df.isnull().any()].to_list()\n",
    "print(columna_null)\n"
   ]
  },
  {
   "cell_type": "code",
   "execution_count": 52,
   "metadata": {},
   "outputs": [
    {
     "name": "stdout",
     "output_type": "stream",
     "text": [
      "name\n",
      "False    48879\n",
      "True        16\n",
      "Name: count, dtype: int64\n",
      "host_name\n",
      "False    48874\n",
      "True        21\n",
      "Name: count, dtype: int64\n",
      "last_review\n",
      "False    38843\n",
      "True     10052\n",
      "Name: count, dtype: int64\n",
      "reviews_per_month\n",
      "False    38843\n",
      "True     10052\n",
      "Name: count, dtype: int64\n"
     ]
    }
   ],
   "source": [
    "# número de valors nulls \n",
    "for valor in columna_null:\n",
    "    print(df[valor].isnull().value_counts())"
   ]
  },
  {
   "cell_type": "markdown",
   "metadata": {},
   "source": [
    "#### Remplaçament de valors nuls "
   ]
  },
  {
   "cell_type": "markdown",
   "metadata": {},
   "source": [
    "Les columnes 'name', 'host_name' tenen molt pocs nans. Per tant, la manera més fácil i sense afectar al model és eliminant les files que contenen els nans.  \n",
    "\n",
    "Podem observar, que last_review i reviews_per_month estan connectats un amb l'altre. Els valors que falten representen que no s'ha deixat una ressenya per aquella anunci AirBnb. Basicament si no hi ha la data de ressenya tampoc estará el camp reviews_per_month (és un percentatge).\n",
    " - Les reviews_per_month replacarem els nans per una puntuació de 0.0, que indicarà que no hi ha ressenya.\n",
    " - La last_reviews_per_month per una data simbolica que sera l'última data possible '2019-12-31' "
   ]
  },
  {
   "cell_type": "code",
   "execution_count": 53,
   "metadata": {},
   "outputs": [],
   "source": [
    "#eliminem files amb nans 'name'\n",
    "df.dropna(subset=['name'], inplace=True)\n",
    "\n",
    "#eliminem files amb nans 'host_name'\n",
    "df.dropna(subset=['host_name'], inplace=True)\n"
   ]
  },
  {
   "cell_type": "code",
   "execution_count": 54,
   "metadata": {},
   "outputs": [],
   "source": [
    "#omplim reviews_per_month\n",
    "df['reviews_per_month'] = df['reviews_per_month'].fillna(0.0)\n",
    "\n",
    "#omplim last_reviews_per_month\n",
    "df['last_review'] = df['last_review'].fillna(\"2019-12-31\")"
   ]
  },
  {
   "cell_type": "code",
   "execution_count": 55,
   "metadata": {},
   "outputs": [
    {
     "data": {
      "text/plain": [
       "id                                0.0\n",
       "name                              0.0\n",
       "host_id                           0.0\n",
       "host_name                         0.0\n",
       "neighbourhood_group               0.0\n",
       "neighbourhood                     0.0\n",
       "latitude                          0.0\n",
       "longitude                         0.0\n",
       "room_type                         0.0\n",
       "price                             0.0\n",
       "minimum_nights                    0.0\n",
       "number_of_reviews                 0.0\n",
       "last_review                       0.0\n",
       "reviews_per_month                 0.0\n",
       "calculated_host_listings_count    0.0\n",
       "availability_365                  0.0\n",
       "dtype: float64"
      ]
     },
     "execution_count": 55,
     "metadata": {},
     "output_type": "execute_result"
    }
   ],
   "source": [
    "df.isnull().sum()/df.size"
   ]
  },
  {
   "cell_type": "markdown",
   "metadata": {},
   "source": [
    "Podem veure com no queda cap nan."
   ]
  },
  {
   "cell_type": "markdown",
   "metadata": {},
   "source": [
    "Anem afegir un atribut que ens servira que s'anomeni 'minim_preu_estancia', será el preu per nit per el mínim de nits. És a dir el mínim preu que pagará un client"
   ]
  },
  {
   "cell_type": "code",
   "execution_count": 56,
   "metadata": {},
   "outputs": [],
   "source": [
    "df['minim_preu_estancia'] = df['price'] * df['minimum_nights']\n"
   ]
  },
  {
   "cell_type": "markdown",
   "metadata": {},
   "source": [
    "##### Tractement de valors outlande"
   ]
  },
  {
   "cell_type": "code",
   "execution_count": null,
   "metadata": {},
   "outputs": [],
   "source": []
  },
  {
   "cell_type": "markdown",
   "metadata": {},
   "source": [
    "### 2. Exploratory Data Analysis"
   ]
  },
  {
   "cell_type": "code",
   "execution_count": 62,
   "metadata": {},
   "outputs": [
    {
     "data": {
      "text/plain": [
       "Text(0, 0.5, 'Nº AirBnb')"
      ]
     },
     "execution_count": 62,
     "metadata": {},
     "output_type": "execute_result"
    },
    {
     "data": {
      "image/png": "[encoded data removed]",
      "text/plain": [
       "<Figure size 1200x800 with 1 Axes>"
      ]
     },
     "metadata": {},
     "output_type": "display_data"
    }
   ],
   "source": [
    "# Distribució del preu d'alquiler \n",
    "fig, ax = plt.subplots(figsize=(12,8))\n",
    "ax.hist(df['price'], bins=50, log=True)\n",
    "ax.set_title('Distribució de preu')\n",
    "ax.set_xlabel('Preu')\n",
    "ax.set_ylabel('Nº AirBnb')"
   ]
  },
  {
   "cell_type": "markdown",
   "metadata": {},
   "source": [
    "Anem a fer el mateix però amb el preu per estancia. "
   ]
  },
  {
   "cell_type": "code",
   "execution_count": 61,
   "metadata": {},
   "outputs": [
    {
     "data": {
      "text/plain": [
       "Text(0, 0.5, 'Nº AirBnb')"
      ]
     },
     "execution_count": 61,
     "metadata": {},
     "output_type": "execute_result"
    },
    {
     "data": {
      "image/png": "[encoded data removed]",
      "text/plain": [
       "<Figure size 1200x800 with 1 Axes>"
      ]
     },
     "metadata": {},
     "output_type": "display_data"
    }
   ],
   "source": [
    "# Distribució del preu per estancia \n",
    "fig, ax = plt.subplots(figsize=(12,8))\n",
    "ax.hist(df['minim_preu_estancia'], bins=50, log=True)\n",
    "ax.set_title('Distribució de preu per estancia')\n",
    "ax.set_xlabel('Preu estancia')\n",
    "ax.set_ylabel('Nº AirBnb')\n"
   ]
  },
  {
   "cell_type": "code",
   "execution_count": 75,
   "metadata": {},
   "outputs": [
    {
     "name": "stderr",
     "output_type": "stream",
     "text": [
      "C:\\Users\\polvi\\AppData\\Local\\Temp\\ipykernel_19872\\2475219527.py:7: FutureWarning: \n",
      "\n",
      "Passing `palette` without assigning `hue` is deprecated and will be removed in v0.14.0. Assign the `x` variable to `hue` and set `legend=False` for the same effect.\n",
      "\n",
      "  sns.countplot(x='neighbourhood_group', data=df, palette=colors)\n"
     ]
    },
    {
     "name": "stdout",
     "output_type": "stream",
     "text": [
      "neighbourhood_group\n",
      "Manhattan        21643\n",
      "Brooklyn         20089\n",
      "Queens            5664\n",
      "Bronx             1089\n",
      "Staten Island      373\n",
      "Name: count, dtype: int64\n"
     ]
    },
    {
     "data": {
      "image/png": "[encoded data removed]",
      "text/plain": [
       "<Figure size 640x480 with 1 Axes>"
      ]
     },
     "metadata": {},
     "output_type": "display_data"
    }
   ],
   "source": [
    "#anem a veure quants airBnb hi han en cada barri \n",
    "titol = 'Propietats per Group de Barris'\n",
    "\n",
    "#fiquem colors perque visualment sigui més bonic\n",
    "colors = ['#FF9999', '#66B3FF', '#99FF99', '#FFCC99', '#CFCFCF']\n",
    "\n",
    "sns.countplot(x='neighbourhood_group', data=df, palette=colors)\n",
    "plt.title(titol)\n",
    "plt.show\n",
    "\n",
    "print(df['neighbourhood_group'].value_counts())\n",
    "\n"
   ]
  },
  {
   "cell_type": "code",
   "execution_count": 74,
   "metadata": {},
   "outputs": [
    {
     "ename": "SyntaxError",
     "evalue": "not a PNG file (<string>)",
     "output_type": "error",
     "traceback": [
      "Traceback \u001b[1;36m(most recent call last)\u001b[0m:\n",
      "\u001b[0m  File \u001b[0;32m~\\AppData\\Roaming\\Python\\Python312\\site-packages\\IPython\\core\\interactiveshell.py:3577\u001b[0m in \u001b[0;35mrun_code\u001b[0m\n    exec(code_obj, self.user_global_ns, self.user_ns)\u001b[0m\n",
      "\u001b[0m  Cell \u001b[0;32mIn[74], line 4\u001b[0m\n    nyc_img = plt.imread('dataset/New_York_City_.png')\u001b[0m\n",
      "\u001b[0m  File \u001b[0;32m~\\anaconda3\\Lib\\site-packages\\matplotlib\\pyplot.py:2404\u001b[0m in \u001b[0;35mimread\u001b[0m\n    return matplotlib.image.imread(fname, format)\u001b[0m\n",
      "\u001b[0m  File \u001b[0;32m~\\anaconda3\\Lib\\site-packages\\matplotlib\\image.py:1525\u001b[0m in \u001b[0;35mimread\u001b[0m\n    with img_open(fname) as image:\u001b[0m\n",
      "\u001b[0m  File \u001b[0;32m~\\anaconda3\\Lib\\site-packages\\PIL\\ImageFile.py:137\u001b[0m in \u001b[0;35m__init__\u001b[0m\n    self._open()\u001b[0m\n",
      "\u001b[1;36m  File \u001b[1;32m~\\anaconda3\\Lib\\site-packages\\PIL\\PngImagePlugin.py:707\u001b[1;36m in \u001b[1;35m_open\u001b[1;36m\n\u001b[1;33m    raise SyntaxError(msg)\u001b[1;36m\n",
      "\u001b[1;36m  File \u001b[1;32m<string>\u001b[1;36m\u001b[0m\n\u001b[1;31mSyntaxError\u001b[0m\u001b[1;31m:\u001b[0m not a PNG file\n"
     ]
    }
   ],
   "source": [
    "#anem a calcular l'area dels airbnb per poder dibuixar sobre el mapa \n",
    "Rectangle_img = (df['longitude'].min(), df['longitude'].max(), df['latitude'].min(), df['latitude'].max())\n",
    "\n",
    "nyc_img = plt.imread('dataset/New_York_City_.png')\n",
    "\n",
    "#tamany del gràfic\n",
    "fig, ax = plt.subplots(figsize=(12,8), facecolor='w') \n",
    "#delimitar gràfic\n",
    "ax.scatter(df['longitude'], df['latitude'], zorder=1, alpha=0.2, c='b', s=.75)\n",
    "ax.set_xlim(Rectangle_img[0], Rectangle_img[1])\n",
    "ax.set_ylim(Rectangle_img[2], Rectangle_img[3])\n",
    "ax.imshow(nyc_img, zorder=0, extent=Rectangle_img, aspect='equal')"
   ]
  },
  {
   "cell_type": "markdown",
   "metadata": {},
   "source": []
  },
  {
   "cell_type": "markdown",
   "metadata": {},
   "source": []
  }
 ],
 "metadata": {
  "kernelspec": {
   "display_name": "Python 3 (ipykernel)",
   "language": "python",
   "name": "python3"
  },
  "language_info": {
   "codemirror_mode": {
    "name": "ipython",
    "version": 3
   },
   "file_extension": ".py",
   "mimetype": "text/x-python",
   "name": "python",
   "nbconvert_exporter": "python",
   "pygments_lexer": "ipython3",
   "version": "3.12.4"
  }
 },
 "nbformat": 4,
 "nbformat_minor": 4
}
